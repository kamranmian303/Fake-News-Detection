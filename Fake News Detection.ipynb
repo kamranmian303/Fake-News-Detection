{
 "cells": [
  {
   "cell_type": "code",
   "execution_count": 24,
   "id": "5a6500ac-f5b7-4101-8c83-66dd51f773e3",
   "metadata": {},
   "outputs": [],
   "source": [
    "import numpy as np \n",
    "import pandas as pd\n",
    "import re  #resular expression for searching text in the document\n",
    "from nltk.corpus import stopwords   #stopwords=unneccessory words\n",
    "from nltk.stem.porter import PorterStemmer   #stemming function gives the root word in sentence\n",
    "from sklearn.feature_extraction.text import TfidfVectorizer #to convert text into features vectors(numbers)\n",
    "from sklearn.model_selection import train_test_split\n",
    "from sklearn.linear_model import LogisticRegression\n",
    "from sklearn.metrics import accuracy_score"
   ]
  },
  {
   "cell_type": "code",
   "execution_count": 25,
   "id": "c437a793-f0b0-4499-84c4-2bb4c3cffad3",
   "metadata": {},
   "outputs": [
    {
     "name": "stderr",
     "output_type": "stream",
     "text": [
      "[nltk_data] Downloading package stopwords to C:\\Users\\Ayat laptop\n",
      "[nltk_data]     point\\AppData\\Roaming\\nltk_data...\n",
      "[nltk_data]   Package stopwords is already up-to-date!\n"
     ]
    },
    {
     "data": {
      "text/plain": [
       "True"
      ]
     },
     "execution_count": 25,
     "metadata": {},
     "output_type": "execute_result"
    }
   ],
   "source": [
    "import nltk\n",
    "nltk.download('stopwords')   #downloading all stopwords"
   ]
  },
  {
   "cell_type": "code",
   "execution_count": 26,
   "id": "2d8f63ba-7420-4486-a05e-90e1f68d9eb6",
   "metadata": {},
   "outputs": [
    {
     "name": "stdout",
     "output_type": "stream",
     "text": [
      "['i', 'me', 'my', 'myself', 'we', 'our', 'ours', 'ourselves', 'you', \"you're\", \"you've\", \"you'll\", \"you'd\", 'your', 'yours', 'yourself', 'yourselves', 'he', 'him', 'his', 'himself', 'she', \"she's\", 'her', 'hers', 'herself', 'it', \"it's\", 'its', 'itself', 'they', 'them', 'their', 'theirs', 'themselves', 'what', 'which', 'who', 'whom', 'this', 'that', \"that'll\", 'these', 'those', 'am', 'is', 'are', 'was', 'were', 'be', 'been', 'being', 'have', 'has', 'had', 'having', 'do', 'does', 'did', 'doing', 'a', 'an', 'the', 'and', 'but', 'if', 'or', 'because', 'as', 'until', 'while', 'of', 'at', 'by', 'for', 'with', 'about', 'against', 'between', 'into', 'through', 'during', 'before', 'after', 'above', 'below', 'to', 'from', 'up', 'down', 'in', 'out', 'on', 'off', 'over', 'under', 'again', 'further', 'then', 'once', 'here', 'there', 'when', 'where', 'why', 'how', 'all', 'any', 'both', 'each', 'few', 'more', 'most', 'other', 'some', 'such', 'no', 'nor', 'not', 'only', 'own', 'same', 'so', 'than', 'too', 'very', 's', 't', 'can', 'will', 'just', 'don', \"don't\", 'should', \"should've\", 'now', 'd', 'll', 'm', 'o', 're', 've', 'y', 'ain', 'aren', \"aren't\", 'couldn', \"couldn't\", 'didn', \"didn't\", 'doesn', \"doesn't\", 'hadn', \"hadn't\", 'hasn', \"hasn't\", 'haven', \"haven't\", 'isn', \"isn't\", 'ma', 'mightn', \"mightn't\", 'mustn', \"mustn't\", 'needn', \"needn't\", 'shan', \"shan't\", 'shouldn', \"shouldn't\", 'wasn', \"wasn't\", 'weren', \"weren't\", 'won', \"won't\", 'wouldn', \"wouldn't\"]\n"
     ]
    }
   ],
   "source": [
    "print(stopwords.words('english'))   #these stop words does not add much value to the dataset"
   ]
  },
  {
   "cell_type": "code",
   "execution_count": 27,
   "id": "47a1bb58-64ba-4771-9c9b-1b64fe831e08",
   "metadata": {},
   "outputs": [
    {
     "name": "stdout",
     "output_type": "stream",
     "text": [
      "Languages with stopwords in NLTK:\n",
      "arabic\n",
      "azerbaijani\n",
      "basque\n",
      "bengali\n",
      "catalan\n",
      "chinese\n",
      "danish\n",
      "dutch\n",
      "english\n",
      "finnish\n",
      "french\n",
      "german\n",
      "greek\n",
      "hebrew\n",
      "hinglish\n",
      "hungarian\n",
      "indonesian\n",
      "italian\n",
      "kazakh\n",
      "nepali\n",
      "norwegian\n",
      "portuguese\n",
      "romanian\n",
      "russian\n",
      "slovene\n",
      "spanish\n",
      "swedish\n",
      "tajik\n",
      "turkish\n"
     ]
    }
   ],
   "source": [
    "print(\"Languages with stopwords in NLTK:\")\n",
    "languages = stopwords.fileids()\n",
    "for language in languages:\n",
    "    print(language)"
   ]
  },
  {
   "cell_type": "code",
   "execution_count": 28,
   "id": "1945acf3-c01c-4007-aaef-edfe02483b11",
   "metadata": {},
   "outputs": [],
   "source": [
    "news = pd.read_csv('train.csv')"
   ]
  },
  {
   "cell_type": "code",
   "execution_count": 29,
   "id": "0f865aa1-a08e-4913-a999-63a81c482bdc",
   "metadata": {},
   "outputs": [
    {
     "data": {
      "text/html": [
       "<div>\n",
       "<style scoped>\n",
       "    .dataframe tbody tr th:only-of-type {\n",
       "        vertical-align: middle;\n",
       "    }\n",
       "\n",
       "    .dataframe tbody tr th {\n",
       "        vertical-align: top;\n",
       "    }\n",
       "\n",
       "    .dataframe thead th {\n",
       "        text-align: right;\n",
       "    }\n",
       "</style>\n",
       "<table border=\"1\" class=\"dataframe\">\n",
       "  <thead>\n",
       "    <tr style=\"text-align: right;\">\n",
       "      <th></th>\n",
       "      <th>id</th>\n",
       "      <th>title</th>\n",
       "      <th>author</th>\n",
       "      <th>text</th>\n",
       "      <th>label</th>\n",
       "    </tr>\n",
       "  </thead>\n",
       "  <tbody>\n",
       "    <tr>\n",
       "      <th>0</th>\n",
       "      <td>0</td>\n",
       "      <td>House Dem Aide: We Didn’t Even See Comey’s Let...</td>\n",
       "      <td>Darrell Lucus</td>\n",
       "      <td>House Dem Aide: We Didn’t Even See Comey’s Let...</td>\n",
       "      <td>1</td>\n",
       "    </tr>\n",
       "    <tr>\n",
       "      <th>1</th>\n",
       "      <td>1</td>\n",
       "      <td>FLYNN: Hillary Clinton, Big Woman on Campus - ...</td>\n",
       "      <td>Daniel J. Flynn</td>\n",
       "      <td>Ever get the feeling your life circles the rou...</td>\n",
       "      <td>0</td>\n",
       "    </tr>\n",
       "    <tr>\n",
       "      <th>2</th>\n",
       "      <td>2</td>\n",
       "      <td>Why the Truth Might Get You Fired</td>\n",
       "      <td>Consortiumnews.com</td>\n",
       "      <td>Why the Truth Might Get You Fired October 29, ...</td>\n",
       "      <td>1</td>\n",
       "    </tr>\n",
       "    <tr>\n",
       "      <th>3</th>\n",
       "      <td>3</td>\n",
       "      <td>15 Civilians Killed In Single US Airstrike Hav...</td>\n",
       "      <td>Jessica Purkiss</td>\n",
       "      <td>Videos 15 Civilians Killed In Single US Airstr...</td>\n",
       "      <td>1</td>\n",
       "    </tr>\n",
       "    <tr>\n",
       "      <th>4</th>\n",
       "      <td>4</td>\n",
       "      <td>Iranian woman jailed for fictional unpublished...</td>\n",
       "      <td>Howard Portnoy</td>\n",
       "      <td>Print \\nAn Iranian woman has been sentenced to...</td>\n",
       "      <td>1</td>\n",
       "    </tr>\n",
       "    <tr>\n",
       "      <th>...</th>\n",
       "      <td>...</td>\n",
       "      <td>...</td>\n",
       "      <td>...</td>\n",
       "      <td>...</td>\n",
       "      <td>...</td>\n",
       "    </tr>\n",
       "    <tr>\n",
       "      <th>20795</th>\n",
       "      <td>20795</td>\n",
       "      <td>Rapper T.I.: Trump a ’Poster Child For White S...</td>\n",
       "      <td>Jerome Hudson</td>\n",
       "      <td>Rapper T. I. unloaded on black celebrities who...</td>\n",
       "      <td>0</td>\n",
       "    </tr>\n",
       "    <tr>\n",
       "      <th>20796</th>\n",
       "      <td>20796</td>\n",
       "      <td>N.F.L. Playoffs: Schedule, Matchups and Odds -...</td>\n",
       "      <td>Benjamin Hoffman</td>\n",
       "      <td>When the Green Bay Packers lost to the Washing...</td>\n",
       "      <td>0</td>\n",
       "    </tr>\n",
       "    <tr>\n",
       "      <th>20797</th>\n",
       "      <td>20797</td>\n",
       "      <td>Macy’s Is Said to Receive Takeover Approach by...</td>\n",
       "      <td>Michael J. de la Merced and Rachel Abrams</td>\n",
       "      <td>The Macy’s of today grew from the union of sev...</td>\n",
       "      <td>0</td>\n",
       "    </tr>\n",
       "    <tr>\n",
       "      <th>20798</th>\n",
       "      <td>20798</td>\n",
       "      <td>NATO, Russia To Hold Parallel Exercises In Bal...</td>\n",
       "      <td>Alex Ansary</td>\n",
       "      <td>NATO, Russia To Hold Parallel Exercises In Bal...</td>\n",
       "      <td>1</td>\n",
       "    </tr>\n",
       "    <tr>\n",
       "      <th>20799</th>\n",
       "      <td>20799</td>\n",
       "      <td>What Keeps the F-35 Alive</td>\n",
       "      <td>David Swanson</td>\n",
       "      <td>David Swanson is an author, activist, journa...</td>\n",
       "      <td>1</td>\n",
       "    </tr>\n",
       "  </tbody>\n",
       "</table>\n",
       "<p>20800 rows × 5 columns</p>\n",
       "</div>"
      ],
      "text/plain": [
       "          id                                              title  \\\n",
       "0          0  House Dem Aide: We Didn’t Even See Comey’s Let...   \n",
       "1          1  FLYNN: Hillary Clinton, Big Woman on Campus - ...   \n",
       "2          2                  Why the Truth Might Get You Fired   \n",
       "3          3  15 Civilians Killed In Single US Airstrike Hav...   \n",
       "4          4  Iranian woman jailed for fictional unpublished...   \n",
       "...      ...                                                ...   \n",
       "20795  20795  Rapper T.I.: Trump a ’Poster Child For White S...   \n",
       "20796  20796  N.F.L. Playoffs: Schedule, Matchups and Odds -...   \n",
       "20797  20797  Macy’s Is Said to Receive Takeover Approach by...   \n",
       "20798  20798  NATO, Russia To Hold Parallel Exercises In Bal...   \n",
       "20799  20799                          What Keeps the F-35 Alive   \n",
       "\n",
       "                                          author  \\\n",
       "0                                  Darrell Lucus   \n",
       "1                                Daniel J. Flynn   \n",
       "2                             Consortiumnews.com   \n",
       "3                                Jessica Purkiss   \n",
       "4                                 Howard Portnoy   \n",
       "...                                          ...   \n",
       "20795                              Jerome Hudson   \n",
       "20796                           Benjamin Hoffman   \n",
       "20797  Michael J. de la Merced and Rachel Abrams   \n",
       "20798                                Alex Ansary   \n",
       "20799                              David Swanson   \n",
       "\n",
       "                                                    text  label  \n",
       "0      House Dem Aide: We Didn’t Even See Comey’s Let...      1  \n",
       "1      Ever get the feeling your life circles the rou...      0  \n",
       "2      Why the Truth Might Get You Fired October 29, ...      1  \n",
       "3      Videos 15 Civilians Killed In Single US Airstr...      1  \n",
       "4      Print \\nAn Iranian woman has been sentenced to...      1  \n",
       "...                                                  ...    ...  \n",
       "20795  Rapper T. I. unloaded on black celebrities who...      0  \n",
       "20796  When the Green Bay Packers lost to the Washing...      0  \n",
       "20797  The Macy’s of today grew from the union of sev...      0  \n",
       "20798  NATO, Russia To Hold Parallel Exercises In Bal...      1  \n",
       "20799    David Swanson is an author, activist, journa...      1  \n",
       "\n",
       "[20800 rows x 5 columns]"
      ]
     },
     "execution_count": 29,
     "metadata": {},
     "output_type": "execute_result"
    }
   ],
   "source": [
    "news"
   ]
  },
  {
   "cell_type": "code",
   "execution_count": 30,
   "id": "fcf57dec-1e88-4b1f-b184-a247efadbecc",
   "metadata": {},
   "outputs": [
    {
     "data": {
      "text/plain": [
       "id           0\n",
       "title      558\n",
       "author    1957\n",
       "text        39\n",
       "label        0\n",
       "dtype: int64"
      ]
     },
     "execution_count": 30,
     "metadata": {},
     "output_type": "execute_result"
    }
   ],
   "source": [
    "news.isnull().sum()"
   ]
  },
  {
   "cell_type": "code",
   "execution_count": 31,
   "id": "161b3f88-8a11-42dc-9268-762e9ac63c72",
   "metadata": {},
   "outputs": [
    {
     "name": "stdout",
     "output_type": "stream",
     "text": [
      "id        0.000000\n",
      "title     2.682692\n",
      "author    9.408654\n",
      "text      0.187500\n",
      "label     0.000000\n",
      "dtype: float64\n"
     ]
    }
   ],
   "source": [
    "# Calculate the percentage of missing values for each column\n",
    "missing_percentage = news.isnull().mean() * 100\n",
    "\n",
    "# Display the result\n",
    "print(missing_percentage)"
   ]
  },
  {
   "cell_type": "code",
   "execution_count": 32,
   "id": "64fdadc9-1ab8-4514-b6c7-4486cfea1df9",
   "metadata": {},
   "outputs": [],
   "source": [
    "#replacing the null values with empty string\n",
    "news = news.fillna('')"
   ]
  },
  {
   "cell_type": "code",
   "execution_count": 33,
   "id": "bd8a6065-6645-4abf-8366-2e59539f4a8b",
   "metadata": {},
   "outputs": [
    {
     "data": {
      "text/plain": [
       "id        0\n",
       "title     0\n",
       "author    0\n",
       "text      0\n",
       "label     0\n",
       "dtype: int64"
      ]
     },
     "execution_count": 33,
     "metadata": {},
     "output_type": "execute_result"
    }
   ],
   "source": [
    "news.isnull().sum()  #checking again"
   ]
  },
  {
   "cell_type": "code",
   "execution_count": 34,
   "id": "1a29d718-b616-44e6-8e69-53b3c7abb06c",
   "metadata": {},
   "outputs": [],
   "source": [
    "#combinng title and author column together\n",
    "news['content'] = news['author']+' '+news['title']"
   ]
  },
  {
   "cell_type": "code",
   "execution_count": 35,
   "id": "4813b817-0d21-4699-a698-acc65b4b07c2",
   "metadata": {},
   "outputs": [
    {
     "name": "stdout",
     "output_type": "stream",
     "text": [
      "0        Darrell Lucus House Dem Aide: We Didn’t Even S...\n",
      "1        Daniel J. Flynn FLYNN: Hillary Clinton, Big Wo...\n",
      "2        Consortiumnews.com Why the Truth Might Get You...\n",
      "3        Jessica Purkiss 15 Civilians Killed In Single ...\n",
      "4        Howard Portnoy Iranian woman jailed for fictio...\n",
      "                               ...                        \n",
      "20795    Jerome Hudson Rapper T.I.: Trump a ’Poster Chi...\n",
      "20796    Benjamin Hoffman N.F.L. Playoffs: Schedule, Ma...\n",
      "20797    Michael J. de la Merced and Rachel Abrams Macy...\n",
      "20798    Alex Ansary NATO, Russia To Hold Parallel Exer...\n",
      "20799              David Swanson What Keeps the F-35 Alive\n",
      "Name: content, Length: 20800, dtype: object\n"
     ]
    }
   ],
   "source": [
    "print(news['content'])"
   ]
  },
  {
   "cell_type": "code",
   "execution_count": 36,
   "id": "f50ab780-bf03-48eb-8cc8-e02c082c4e06",
   "metadata": {},
   "outputs": [],
   "source": [
    "def stemming(content):\n",
    "    # Create a Porter Stemmer object\n",
    "    porter = PorterStemmer()\n",
    "    \n",
    "    # Remove numbers and punctuation\n",
    "    content = re.sub(r'[^\\w\\s]', ' ', content)   # r'[^\\w\\s] means exclude everything that does not include in a-z & A-Z set, eg: nuber, punctutation etc   from the content columns which we had made by combining author and title columns.\n",
    "    \n",
    "    # Convert to lowercase\n",
    "    content = content.lower()\n",
    "    \n",
    "    # Split into words\n",
    "    content = content.split()\n",
    "    \n",
    "    # Remove stopwords and apply stemming\n",
    "    stop_words = set(stopwords.words('english'))\n",
    "    content = [porter.stem(word) for word in content if word not in stop_words]  #using a for loop to choose all the words that are not the stop words and performing the functiion porterstemmer by using variable port\n",
    "    \n",
    "    # Join words back into a single string\n",
    "    stemmed_content = ' '.join(content)\n",
    "    \n",
    "    return stemmed_content"
   ]
  },
  {
   "cell_type": "code",
   "execution_count": 37,
   "id": "ad7574fa-1f68-499b-a0f2-226e913f1865",
   "metadata": {},
   "outputs": [],
   "source": [
    "news['content'] = news['content'].apply(stemming)"
   ]
  },
  {
   "cell_type": "code",
   "execution_count": 38,
   "id": "4e393566-d5e0-40a6-a52a-894d52623831",
   "metadata": {},
   "outputs": [
    {
     "name": "stdout",
     "output_type": "stream",
     "text": [
      "0        darrel lucu hous dem aid even see comey letter...\n",
      "1        daniel j flynn flynn hillari clinton big woman...\n",
      "2                   consortiumnew com truth might get fire\n",
      "3        jessica purkiss 15 civilian kill singl us airs...\n",
      "4        howard portnoy iranian woman jail fiction unpu...\n",
      "                               ...                        \n",
      "20795    jerom hudson rapper trump poster child white s...\n",
      "20796    benjamin hoffman n f l playoff schedul matchup...\n",
      "20797    michael j de la merc rachel abram maci said re...\n",
      "20798    alex ansari nato russia hold parallel exercis ...\n",
      "20799                         david swanson keep f 35 aliv\n",
      "Name: content, Length: 20800, dtype: object\n"
     ]
    }
   ],
   "source": [
    "print(news['content'])"
   ]
  },
  {
   "cell_type": "code",
   "execution_count": 39,
   "id": "8fd43f23-44c2-4910-a1d3-781d0950fc45",
   "metadata": {},
   "outputs": [],
   "source": [
    "#we are not goin to use the text column, because it is way too long , instd of this we are going to use the tital an author column\n",
    "#making x and y again , only using the content(title+author) for the x\n",
    "x=news['content'].values\n",
    "y=news['label'].values"
   ]
  },
  {
   "cell_type": "code",
   "execution_count": 40,
   "id": "2d379bed-b910-42aa-9eae-a7701051ec92",
   "metadata": {},
   "outputs": [
    {
     "name": "stdout",
     "output_type": "stream",
     "text": [
      "['darrel lucu hous dem aid even see comey letter jason chaffetz tweet'\n",
      " 'daniel j flynn flynn hillari clinton big woman campu breitbart'\n",
      " 'consortiumnew com truth might get fire' ...\n",
      " 'michael j de la merc rachel abram maci said receiv takeov approach hudson bay new york time'\n",
      " 'alex ansari nato russia hold parallel exercis balkan'\n",
      " 'david swanson keep f 35 aliv']\n"
     ]
    }
   ],
   "source": [
    "print(x)"
   ]
  },
  {
   "cell_type": "code",
   "execution_count": 41,
   "id": "971c36fe-0b96-45bb-9ad8-8d5c4db12eac",
   "metadata": {},
   "outputs": [
    {
     "name": "stdout",
     "output_type": "stream",
     "text": [
      "[1 0 1 ... 0 1 1]\n"
     ]
    }
   ],
   "source": [
    "print(y)"
   ]
  },
  {
   "cell_type": "code",
   "execution_count": 45,
   "id": "6be9bdf5-c76d-4047-b01f-09e11e3fe441",
   "metadata": {},
   "outputs": [],
   "source": [
    "#using the TfidfVectorizer function to convert the text into numbers\n",
    "vect = TfidfVectorizer()\n",
    "vect.fit(x)  #taking all the words in x for conversion\n",
    "\n",
    "x=vect.transform(x)  #converting the words taken into feature vectors(numbers)"
   ]
  },
  {
   "cell_type": "code",
   "execution_count": 46,
   "id": "76fa718b-3466-4209-adce-3de86d94705b",
   "metadata": {},
   "outputs": [
    {
     "name": "stdout",
     "output_type": "stream",
     "text": [
      "  (0, 16255)\t0.28485063562728646\n",
      "  (0, 14053)\t0.2565896679337957\n",
      "  (0, 9448)\t0.3635963806326075\n",
      "  (0, 9179)\t0.29212514087043684\n",
      "  (0, 8240)\t0.24785219520671603\n",
      "  (0, 7543)\t0.21874169089359144\n",
      "  (0, 5489)\t0.233316966909351\n",
      "  (0, 4285)\t0.2705332480845492\n",
      "  (0, 4093)\t0.3598939188262559\n",
      "  (0, 3446)\t0.2468450128533713\n",
      "  (0, 2976)\t0.3676519686797209\n",
      "  (0, 740)\t0.27010124977708766\n",
      "  (1, 17375)\t0.30071745655510157\n",
      "  (1, 7355)\t0.1904660198296849\n",
      "  (1, 6023)\t0.7143299355715573\n",
      "  (1, 4061)\t0.26373768806048464\n",
      "  (1, 3298)\t0.19094574062359204\n",
      "  (1, 2712)\t0.3827320386859759\n",
      "  (1, 2376)\t0.15521974226349364\n",
      "  (1, 1981)\t0.2939891562094648\n",
      "  (2, 16179)\t0.41544962664721613\n",
      "  (2, 10175)\t0.49351492943649944\n",
      "  (2, 6505)\t0.3474613386728292\n",
      "  (2, 5909)\t0.3866530551182615\n",
      "  (2, 3592)\t0.46097489583229645\n",
      "  :\t:\n",
      "  (20797, 12925)\t0.27263457663336677\n",
      "  (20797, 12720)\t0.24778257724396507\n",
      "  (20797, 10866)\t0.08038079000566466\n",
      "  (20797, 10143)\t0.174553480255222\n",
      "  (20797, 10073)\t0.2954204003420313\n",
      "  (20797, 9538)\t0.36160868928090795\n",
      "  (20797, 8918)\t0.22322585870464118\n",
      "  (20797, 7579)\t0.21799048897828688\n",
      "  (20797, 4136)\t0.21155500613623743\n",
      "  (20797, 1770)\t0.33538056804139865\n",
      "  (20797, 1177)\t0.30685846079762347\n",
      "  (20797, 515)\t0.29710241860700626\n",
      "  (20798, 13617)\t0.223569903443162\n",
      "  (20798, 11605)\t0.4459263567380017\n",
      "  (20798, 10742)\t0.3191600268608844\n",
      "  (20798, 7427)\t0.32487164314188327\n",
      "  (20798, 5548)\t0.40825551963710627\n",
      "  (20798, 1605)\t0.4459263567380017\n",
      "  (20798, 1065)\t0.3111267977856649\n",
      "  (20798, 822)\t0.28537467674810746\n",
      "  (20799, 15420)\t0.4883557590689915\n",
      "  (20799, 8590)\t0.3955296079363132\n",
      "  (20799, 4116)\t0.3262337762578029\n",
      "  (20799, 851)\t0.4883557590689915\n",
      "  (20799, 262)\t0.5100442702772165\n"
     ]
    }
   ],
   "source": [
    "print(x)"
   ]
  },
  {
   "cell_type": "code",
   "execution_count": 47,
   "id": "f44b516f-f80b-4c57-8e71-40681f621cf6",
   "metadata": {},
   "outputs": [
    {
     "data": {
      "text/plain": [
       "(20800, 18741)"
      ]
     },
     "execution_count": 47,
     "metadata": {},
     "output_type": "execute_result"
    }
   ],
   "source": [
    "x.shape"
   ]
  },
  {
   "cell_type": "code",
   "execution_count": 50,
   "id": "63c915fd-cee4-4806-aed2-32f600937a8f",
   "metadata": {},
   "outputs": [],
   "source": [
    "#using train_test_split here\n",
    "xtr,xts,ytr,yts = train_test_split(x,y,test_size=0.2,stratify=y, random_state=2)  #changing random_state vale will split hte data in differe nt differnet manners"
   ]
  },
  {
   "cell_type": "code",
   "execution_count": 53,
   "id": "b29e8fd1-5112-4c84-9220-5f47ee59d44d",
   "metadata": {},
   "outputs": [],
   "source": [
    "#training LR model\n",
    "lr = LogisticRegression()   #LR sets a threshold value eg:0.5 , if value exceeds than Yes, if Below than 0.5 than No.\n",
    "\n",
    "#  x--input features     \n",
    "#  y--prediction probability    0/1\n",
    "#  w--weights      importance of features/column\n",
    "#  b--biases      the intercept"
   ]
  },
  {
   "cell_type": "code",
   "execution_count": 57,
   "id": "c3492c0c-cd70-433f-b8bc-c8b419dd8c47",
   "metadata": {},
   "outputs": [
    {
     "data": {
      "text/html": [
       "<style>#sk-container-id-3 {color: black;background-color: white;}#sk-container-id-3 pre{padding: 0;}#sk-container-id-3 div.sk-toggleable {background-color: white;}#sk-container-id-3 label.sk-toggleable__label {cursor: pointer;display: block;width: 100%;margin-bottom: 0;padding: 0.3em;box-sizing: border-box;text-align: center;}#sk-container-id-3 label.sk-toggleable__label-arrow:before {content: \"▸\";float: left;margin-right: 0.25em;color: #696969;}#sk-container-id-3 label.sk-toggleable__label-arrow:hover:before {color: black;}#sk-container-id-3 div.sk-estimator:hover label.sk-toggleable__label-arrow:before {color: black;}#sk-container-id-3 div.sk-toggleable__content {max-height: 0;max-width: 0;overflow: hidden;text-align: left;background-color: #f0f8ff;}#sk-container-id-3 div.sk-toggleable__content pre {margin: 0.2em;color: black;border-radius: 0.25em;background-color: #f0f8ff;}#sk-container-id-3 input.sk-toggleable__control:checked~div.sk-toggleable__content {max-height: 200px;max-width: 100%;overflow: auto;}#sk-container-id-3 input.sk-toggleable__control:checked~label.sk-toggleable__label-arrow:before {content: \"▾\";}#sk-container-id-3 div.sk-estimator input.sk-toggleable__control:checked~label.sk-toggleable__label {background-color: #d4ebff;}#sk-container-id-3 div.sk-label input.sk-toggleable__control:checked~label.sk-toggleable__label {background-color: #d4ebff;}#sk-container-id-3 input.sk-hidden--visually {border: 0;clip: rect(1px 1px 1px 1px);clip: rect(1px, 1px, 1px, 1px);height: 1px;margin: -1px;overflow: hidden;padding: 0;position: absolute;width: 1px;}#sk-container-id-3 div.sk-estimator {font-family: monospace;background-color: #f0f8ff;border: 1px dotted black;border-radius: 0.25em;box-sizing: border-box;margin-bottom: 0.5em;}#sk-container-id-3 div.sk-estimator:hover {background-color: #d4ebff;}#sk-container-id-3 div.sk-parallel-item::after {content: \"\";width: 100%;border-bottom: 1px solid gray;flex-grow: 1;}#sk-container-id-3 div.sk-label:hover label.sk-toggleable__label {background-color: #d4ebff;}#sk-container-id-3 div.sk-serial::before {content: \"\";position: absolute;border-left: 1px solid gray;box-sizing: border-box;top: 0;bottom: 0;left: 50%;z-index: 0;}#sk-container-id-3 div.sk-serial {display: flex;flex-direction: column;align-items: center;background-color: white;padding-right: 0.2em;padding-left: 0.2em;position: relative;}#sk-container-id-3 div.sk-item {position: relative;z-index: 1;}#sk-container-id-3 div.sk-parallel {display: flex;align-items: stretch;justify-content: center;background-color: white;position: relative;}#sk-container-id-3 div.sk-item::before, #sk-container-id-3 div.sk-parallel-item::before {content: \"\";position: absolute;border-left: 1px solid gray;box-sizing: border-box;top: 0;bottom: 0;left: 50%;z-index: -1;}#sk-container-id-3 div.sk-parallel-item {display: flex;flex-direction: column;z-index: 1;position: relative;background-color: white;}#sk-container-id-3 div.sk-parallel-item:first-child::after {align-self: flex-end;width: 50%;}#sk-container-id-3 div.sk-parallel-item:last-child::after {align-self: flex-start;width: 50%;}#sk-container-id-3 div.sk-parallel-item:only-child::after {width: 0;}#sk-container-id-3 div.sk-dashed-wrapped {border: 1px dashed gray;margin: 0 0.4em 0.5em 0.4em;box-sizing: border-box;padding-bottom: 0.4em;background-color: white;}#sk-container-id-3 div.sk-label label {font-family: monospace;font-weight: bold;display: inline-block;line-height: 1.2em;}#sk-container-id-3 div.sk-label-container {text-align: center;}#sk-container-id-3 div.sk-container {/* jupyter's `normalize.less` sets `[hidden] { display: none; }` but bootstrap.min.css set `[hidden] { display: none !important; }` so we also need the `!important` here to be able to override the default hidden behavior on the sphinx rendered scikit-learn.org. See: https://github.com/scikit-learn/scikit-learn/issues/21755 */display: inline-block !important;position: relative;}#sk-container-id-3 div.sk-text-repr-fallback {display: none;}</style><div id=\"sk-container-id-3\" class=\"sk-top-container\"><div class=\"sk-text-repr-fallback\"><pre>LogisticRegression()</pre><b>In a Jupyter environment, please rerun this cell to show the HTML representation or trust the notebook. <br />On GitHub, the HTML representation is unable to render, please try loading this page with nbviewer.org.</b></div><div class=\"sk-container\" hidden><div class=\"sk-item\"><div class=\"sk-estimator sk-toggleable\"><input class=\"sk-toggleable__control sk-hidden--visually\" id=\"sk-estimator-id-3\" type=\"checkbox\" checked><label for=\"sk-estimator-id-3\" class=\"sk-toggleable__label sk-toggleable__label-arrow\">LogisticRegression</label><div class=\"sk-toggleable__content\"><pre>LogisticRegression()</pre></div></div></div></div></div>"
      ],
      "text/plain": [
       "LogisticRegression()"
      ]
     },
     "execution_count": 57,
     "metadata": {},
     "output_type": "execute_result"
    }
   ],
   "source": [
    "lr.fit(xtr,ytr)  #training the model with xtrain and y train"
   ]
  },
  {
   "cell_type": "code",
   "execution_count": 61,
   "id": "114aa86b-a1d4-483d-b229-3ffea950a476",
   "metadata": {},
   "outputs": [
    {
     "name": "stdout",
     "output_type": "stream",
     "text": [
      "accuracy score of training data: 0.9866586538461538\n"
     ]
    }
   ],
   "source": [
    "#finding accuracy score  taring\n",
    "xtr_pred = lr.predict(xtr)\n",
    "xtr_accuracy = accuracy_score(xtr_pred,ytr)   # xtr_pred aare the values prdicted by our model and ytr is the original labels\n",
    "print(\"accuracy score of training data:\" ,xtr_accuracy)"
   ]
  },
  {
   "cell_type": "code",
   "execution_count": 63,
   "id": "b10b51c1-a42c-4591-90bf-c1d819baffec",
   "metadata": {},
   "outputs": [
    {
     "name": "stdout",
     "output_type": "stream",
     "text": [
      "accuracy score of test data: 0.9788461538461538\n"
     ]
    }
   ],
   "source": [
    "#finding accuracy score  testing\n",
    "xts_pred = lr.predict(xts)\n",
    "xts_accuracy = accuracy_score(xts_pred,yts)   # xts_pred aare the values prdicted by our model and yts is the original labels\n",
    "print(\"accuracy score of test data:\" ,xts_accuracy)"
   ]
  },
  {
   "cell_type": "code",
   "execution_count": 72,
   "id": "3cbb2f36-c162-4847-b8b8-83aa096d707a",
   "metadata": {},
   "outputs": [
    {
     "name": "stdout",
     "output_type": "stream",
     "text": [
      "[1]\n",
      "the news is fake\n"
     ]
    }
   ],
   "source": [
    "#predictive system\n",
    "x_new = xts[65]   #taking the 1st row in xtest data and storing it in a new varable\n",
    "\n",
    "prediction = lr.predict(x_new)\n",
    "print(prediction)\n",
    "\n",
    "if (prediction[0]==0):   #0 means real news\n",
    "    print('the news is real')\n",
    "else:\n",
    "    print('the news is fake')"
   ]
  },
  {
   "cell_type": "code",
   "execution_count": 73,
   "id": "fee4cba4-9a37-4b97-829d-5ece2fe76659",
   "metadata": {},
   "outputs": [
    {
     "name": "stdout",
     "output_type": "stream",
     "text": [
      "1\n"
     ]
    }
   ],
   "source": [
    "#doublechecing\n",
    "print(yts[65])"
   ]
  }
 ],
 "metadata": {
  "kernelspec": {
   "display_name": "Python 3 (ipykernel)",
   "language": "python",
   "name": "python3"
  },
  "language_info": {
   "codemirror_mode": {
    "name": "ipython",
    "version": 3
   },
   "file_extension": ".py",
   "mimetype": "text/x-python",
   "name": "python",
   "nbconvert_exporter": "python",
   "pygments_lexer": "ipython3",
   "version": "3.11.7"
  }
 },
 "nbformat": 4,
 "nbformat_minor": 5
}
